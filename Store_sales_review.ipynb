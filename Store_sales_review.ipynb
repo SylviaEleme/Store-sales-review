{
 "cells": [
  {
   "cell_type": "code",
   "execution_count": 1,
   "id": "21dc498c-25e9-4ea7-b3cd-c794bd112b49",
   "metadata": {},
   "outputs": [],
   "source": [
    "# Azubi store \n",
    "products = ['Sankofa Foods', 'Jamestown Coffee', 'Bioko Chocolate', 'Blue Skies Ice Cream',\n",
    "            'Fair Afric Chocolate', 'Kawa Moka Coffee', 'Aphro Spirit', 'Mensado Bissap', 'Voltic']\n",
    "\n",
    "prices = [30, 25, 40, 20, 20, 35, 45, 50, 35]\n",
    "\n",
    "last_week = [2, 3, 5, 8, 4, 4, 6, 2, 9]   # number of times each product was sold\n",
    "\n"
   ]
  },
  {
   "cell_type": "code",
   "execution_count": 7,
   "id": "180b0013-2f7a-4ac2-a39f-c50b15a2124a",
   "metadata": {},
   "outputs": [
    {
     "name": "stdout",
     "output_type": "stream",
     "text": [
      "Total price average for all products = GHS 33.33\n"
     ]
    }
   ],
   "source": [
    "# Question 1 - Total price average for all products\n",
    "\n",
    "# total number of products\n",
    "n = len(products)\n",
    "\n",
    "# total amount of product prices\n",
    "s = sum(prices)\n",
    "\n",
    "# average price of products\n",
    "total_price_average = s/n\n",
    "\n",
    "print(f'Total price average for all products = GHS {total_price_average:.2f}')\n"
   ]
  },
  {
   "cell_type": "code",
   "execution_count": 6,
   "id": "45593deb-8d05-4c2f-b36f-c472f41c0df4",
   "metadata": {},
   "outputs": [
    {
     "name": "stdout",
     "output_type": "stream",
     "text": [
      " New prices = [25, 20, 35, 15, 15, 30, 40, 45, 30]\n"
     ]
    }
   ],
   "source": [
    "# Question 2 - create a new price list that reduces the old price list by GHS 5\n",
    "\n",
    "prices = [30, 25, 40, 20, 20, 35, 45, 50, 35]\n",
    "\n",
    "# subtract GHS 5 from every product price\n",
    "new_prices = [item - 5 for item in prices]   \n",
    "\n",
    "print(f' New prices = {new_prices}')\n",
    "   \n",
    "     "
   ]
  },
  {
   "cell_type": "code",
   "execution_count": 8,
   "id": "1f118538-5ded-4116-afbe-2d70c4b68fd0",
   "metadata": {},
   "outputs": [
    {
     "name": "stdout",
     "output_type": "stream",
     "text": [
      " Total revenue generated from products = GHS 1400\n"
     ]
    }
   ],
   "source": [
    "# Question 3 - Total revenue generated from products\n",
    "\n",
    "prices = [30, 25, 40, 20, 20, 35, 45, 50, 35]\n",
    "\n",
    "last_week = [2, 3, 5, 8, 4, 4, 6, 2, 9]\n",
    "\n",
    "#  revenue generated per product\n",
    "revenue_per_product = [a * b for a, b in zip(prices, last_week)]\n",
    "\n",
    "# sum of all revenue generated \n",
    "Total_revenue = sum(revenue_per_product)\n",
    "\n",
    "print(f' Total revenue generated from products = GHS {Total_revenue}')\n"
   ]
  },
  {
   "cell_type": "code",
   "execution_count": 9,
   "id": "0b370967-02f6-4fad-8c2d-f1672c6b9f1b",
   "metadata": {},
   "outputs": [
    {
     "name": "stdout",
     "output_type": "stream",
     "text": [
      " Average daily revenue = GHS 200.0\n"
     ]
    }
   ],
   "source": [
    "# Question 4 - Average daily revenue generated from products\n",
    "\n",
    "prices = [30, 25, 40, 20, 20, 35, 45, 50, 35]\n",
    "\n",
    "last_week = [2, 3, 5, 8, 4, 4, 6, 2, 9]\n",
    "\n",
    "#  revenue generated per product\n",
    "revenue_per_product = [a * b for a, b in zip(prices, last_week)]\n",
    "\n",
    "# sum of all revenue generated \n",
    "Total_revenue = sum(revenue_per_product)\n",
    "\n",
    "number_of_days = 7\n",
    "\n",
    "Average_daily_revenue = Total_revenue/number_of_days\n",
    "\n",
    "print(f' Average daily revenue = GHS {Average_daily_revenue}')\n"
   ]
  },
  {
   "cell_type": "code",
   "execution_count": 3,
   "id": "850e4a7e-d5dc-49eb-9d09-4c5cac7a8b20",
   "metadata": {},
   "outputs": [
    {
     "name": "stdout",
     "output_type": "stream",
     "text": [
      "['Sankofa Foods', 'Jamestown Coffee', 'Blue Skies Ice Cream', 'Fair Afric Chocolate']\n"
     ]
    }
   ],
   "source": [
    "# Question 5 - Based on the new prices, which products are less than GHS 30\n",
    "\n",
    "products = ['Sankofa Foods', 'Jamestown Coffee', 'Bioko Chocolate', 'Blue Skies Ice Cream',\n",
    "            'Fair Afric Chocolate', 'Kawa Moka Coffee', 'Aphro Spirit', 'Mensado Bissap', 'Voltic']\n",
    "\n",
    "new_prices = [25, 20, 35, 15, 15, 30, 40, 45, 30]\n",
    "\n",
    "cut_off = 30  # Amount \n",
    "\n",
    "#creating new container to house final list\n",
    "new_product_list = [] \n",
    "\n",
    "# extracting the products based on values of new_prices which meet the less than GHS 30 condition\n",
    "for a,b in zip(products, new_prices):\n",
    "    if cut_off > b:\n",
    "        new_product_list.append(a)\n",
    "\n",
    "print(new_product_list)\n",
    "   \n",
    "\n"
   ]
  },
  {
   "cell_type": "code",
   "execution_count": null,
   "id": "78251b85-bd5c-40ec-b40e-9d052bae8617",
   "metadata": {},
   "outputs": [],
   "source": []
  }
 ],
 "metadata": {
  "kernelspec": {
   "display_name": "Python 3 (ipykernel)",
   "language": "python",
   "name": "python3"
  },
  "language_info": {
   "codemirror_mode": {
    "name": "ipython",
    "version": 3
   },
   "file_extension": ".py",
   "mimetype": "text/x-python",
   "name": "python",
   "nbconvert_exporter": "python",
   "pygments_lexer": "ipython3",
   "version": "3.10.9"
  }
 },
 "nbformat": 4,
 "nbformat_minor": 5
}
